{
  "nbformat": 4,
  "nbformat_minor": 0,
  "metadata": {
    "colab": {
      "name": "Untitled0.ipynb",
      "provenance": []
    },
    "kernelspec": {
      "name": "python3",
      "display_name": "Python 3"
    },
    "language_info": {
      "name": "python"
    }
  },
  "cells": [
    {
      "cell_type": "code",
      "metadata": {
        "colab": {
          "base_uri": "https://localhost:8080/"
        },
        "id": "jU653V8JZjzX",
        "outputId": "ed3adef5-2780-4383-a250-f1c0d8018034"
      },
      "source": [
        "#ex1\n",
        "list=[2, 3, 6]\n",
        "s=1\n",
        "for i in list:\n",
        " s=s*i\n",
        "print(s)\n",
        "\n"
      ],
      "execution_count": null,
      "outputs": [
        {
          "output_type": "stream",
          "text": [
            "36\n"
          ],
          "name": "stdout"
        }
      ]
    },
    {
      "cell_type": "code",
      "metadata": {
        "colab": {
          "base_uri": "https://localhost:8080/"
        },
        "id": "61RRtOJ0n_dX",
        "outputId": "0af66576-a58c-4951-fecc-a1777a9358d8"
      },
      "source": [
        "#ex2\n",
        "a=[(1, 3,), (3, 2,), (2, 1,)]\n",
        "def Deuxième(t) :\n",
        "  return t[1]\n",
        "a.sort(key = Deuxièeme)\n",
        "print(a)"
      ],
      "execution_count": null,
      "outputs": [
        {
          "output_type": "stream",
          "text": [
            "[(2, 1), (3, 2), (1, 3)]\n"
          ],
          "name": "stdout"
        }
      ]
    },
    {
      "cell_type": "code",
      "metadata": {
        "colab": {
          "base_uri": "https://localhost:8080/"
        },
        "id": "gE7Pb3dXxQpP",
        "outputId": "ff56646a-d626-4f55-f65a-315122ceb0bc"
      },
      "source": [
        "#ex3\n",
        "d1 = {'a': 100, 'b': 200, 'c':300}\n",
        "d2 = {'a': 300, 'b': 200, 'd':400}\n",
        "for key in d1:\n",
        "  if key in d2:\n",
        "    d1[key]=d1[key]+d2[key]\n",
        "d3=dict(d1,**d2)\n",
        "print(d3)\n",
        "     \n"
      ],
      "execution_count": null,
      "outputs": [
        {
          "output_type": "stream",
          "text": [
            "{'a': 300, 'b': 200, 'c': 300, 'd': 400}\n"
          ],
          "name": "stdout"
        }
      ]
    },
    {
      "cell_type": "code",
      "metadata": {
        "id": "fxXoHUUx2Qto",
        "colab": {
          "base_uri": "https://localhost:8080/"
        },
        "outputId": "cbd8726d-be92-4816-f89e-e61389b3cd8d"
      },
      "source": [
        "#ex4\n",
        "number = int(input(\"Type a number: \"))\n",
        "\n",
        "numberDict = {}\n",
        "for i in range(1, number+1):\n",
        "    numberDict[i] = i*i\n",
        "\n",
        "print(numberDict)\n",
        "  \n",
        " "
      ],
      "execution_count": null,
      "outputs": [
        {
          "output_type": "stream",
          "text": [
            "Type a number: 8\n",
            "{1: 1, 2: 4, 3: 9, 4: 16, 5: 25, 6: 36, 7: 49, 8: 64}\n"
          ],
          "name": "stdout"
        }
      ]
    },
    {
      "cell_type": "code",
      "metadata": {
        "id": "PZ6lXs1LFqt0"
      },
      "source": [
        ""
      ],
      "execution_count": null,
      "outputs": []
    },
    {
      "cell_type": "code",
      "metadata": {
        "colab": {
          "base_uri": "https://localhost:8080/"
        },
        "id": "vpnyXijIFq8F",
        "outputId": "a479206e-5b80-4c83-96d5-62e8d90fc3f2"
      },
      "source": [
        "#ex5\n",
        "a = [('item1', '12.20'), ('item2', '15.10'), ('item3', '24.5')]\n",
        "print( sorted(price, key=lambda x: float(x[1]), reverse=True))"
      ],
      "execution_count": null,
      "outputs": [
        {
          "output_type": "stream",
          "text": [
            "[('item3', '24.5'), ('item2', '15.10'), ('item1', '12.20')]\n"
          ],
          "name": "stdout"
        }
      ]
    }
  ]
}